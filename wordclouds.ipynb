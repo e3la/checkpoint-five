{
  "nbformat": 4,
  "nbformat_minor": 0,
  "metadata": {
    "colab": {
      "provenance": [],
      "authorship_tag": "ABX9TyMK9GXSgAM/yRo2ngtwwRxc",
      "include_colab_link": true
    },
    "kernelspec": {
      "name": "python3",
      "display_name": "Python 3"
    },
    "language_info": {
      "name": "python"
    }
  },
  "cells": [
    {
      "cell_type": "markdown",
      "metadata": {
        "id": "view-in-github",
        "colab_type": "text"
      },
      "source": [
        "<a href=\"https://colab.research.google.com/github/e3la/checkpoint-five/blob/main/wordclouds.ipynb\" target=\"_parent\"><img src=\"https://colab.research.google.com/assets/colab-badge.svg\" alt=\"Open In Colab\"/></a>"
      ]
    },
    {
      "cell_type": "code",
      "execution_count": 2,
      "metadata": {
        "colab": {
          "base_uri": "https://localhost:8080/"
        },
        "id": "8nhVX4qIfviy",
        "outputId": "4dc3b0d3-3555-49e4-c356-fb83d6fa1137"
      },
      "outputs": [
        {
          "output_type": "stream",
          "name": "stdout",
          "text": [
            "<class 'pandas.core.frame.DataFrame'>\n",
            "RangeIndex: 9595 entries, 0 to 9594\n",
            "Data columns (total 2 columns):\n",
            " #   Column    Non-Null Count  Dtype \n",
            "---  ------    --------------  ----- \n",
            " 0   doi       9433 non-null   object\n",
            " 1   keywords  9109 non-null   object\n",
            "dtypes: object(2)\n",
            "memory usage: 150.0+ KB\n",
            "None\n"
          ]
        }
      ],
      "source": [
        "import pandas as pd\n",
        "\n",
        "url = 'https://raw.githubusercontent.com/e3la/cleaning-data-checkpoint/main/df2.csv'\n",
        "df = pd.read_csv(url)\n",
        "\n",
        "df['keywords'] = df['keywords'].str.split(',')\n",
        "df2 = df.explode('keywords')\n",
        "df2 = df2.reset_index(drop=True)\n",
        "\n",
        "df3 = df2[['doi','keywords']]\n",
        "print(df3.info())\n",
        "\n",
        "from google.colab import drive\n",
        "drive.mount('/content/gdrive')\n",
        "df3.to_csv('/content/gdrive/My Drive/keywords.csv')\n",
        "df_verify = pd.read_csv('/content/gdrive/My Drive/keywords.csv')\n",
        "print(df_verify)\n",
        "\n",
        "# df.info()\n",
        "\n",
        "# institution_cols = [col for col in df.columns if 'institution' in col]\n",
        "# print(institution_cols)\n",
        "\n",
        "# for col in institution_cols:\n",
        "#     df = df.explode(col)\n",
        "\n",
        "# df['institutions'] = df[institution_cols].apply(lambda row: ','.join(row.values.astype(str)), axis=1)\n",
        "\n",
        "# columns = ['doi'] + ['institutions']\n",
        "# df_subset = df[columns]\n",
        "\n",
        "# print(df_subset)\n",
        "\n",
        "# from google.colab import drive\n",
        "# drive.mount('/content/gdrive')\n",
        "# df_subset.to_csv('/content/gdrive/My Drive/institutions.csv')\n",
        "# df_verify = pd.read_csv('/content/gdrive/My Drive/institutions.csv')\n",
        "# print(df_verify)"
      ]
    }
  ]
}