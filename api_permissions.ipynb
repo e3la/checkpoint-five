{
  "nbformat": 4,
  "nbformat_minor": 0,
  "metadata": {
    "colab": {
      "provenance": [],
      "authorship_tag": "ABX9TyNuscLxFY0vQVAjNaBGpW0R",
      "include_colab_link": true
    },
    "kernelspec": {
      "name": "python3",
      "display_name": "Python 3"
    },
    "language_info": {
      "name": "python"
    }
  },
  "cells": [
    {
      "cell_type": "markdown",
      "metadata": {
        "id": "view-in-github",
        "colab_type": "text"
      },
      "source": [
        "<a href=\"https://colab.research.google.com/github/e3la/checkpoint-five/blob/main/api_permissions.ipynb\" target=\"_parent\"><img src=\"https://colab.research.google.com/assets/colab-badge.svg\" alt=\"Open In Colab\"/></a>"
      ]
    },
    {
      "cell_type": "code",
      "source": [
        "# Getting the DF from a csv in gdrive\n",
        "import pandas as pd\n",
        "import requests\n",
        "import json\n",
        "import time\n",
        "\n",
        "from google.colab import drive\n",
        "drive.mount('/content/gdrive')\n",
        "#result_df.to_csv('/content/gdrive/My Drive/alltitles.csv', index=False)\n",
        "dfall = pd.read_csv('/content/gdrive/My Drive/alltitles.csv')\n",
        "\n",
        "print(dfall.info())"
      ],
      "metadata": {
        "colab": {
          "base_uri": "https://localhost:8080/"
        },
        "id": "QvsahQL7sQIP",
        "outputId": "f9ebafd7-4b59-4a5c-f247-36ac55c25bba"
      },
      "execution_count": null,
      "outputs": [
        {
          "output_type": "stream",
          "name": "stdout",
          "text": [
            "Drive already mounted at /content/gdrive; to attempt to forcibly remount, call drive.mount(\"/content/gdrive\", force_remount=True).\n",
            "<class 'pandas.core.frame.DataFrame'>\n",
            "RangeIndex: 5754 entries, 0 to 5753\n",
            "Data columns (total 20 columns):\n",
            " #   Column         Non-Null Count  Dtype  \n",
            "---  ------         --------------  -----  \n",
            " 0   title          5722 non-null   object \n",
            " 1   year           2639 non-null   float64\n",
            " 2   author         2590 non-null   object \n",
            " 3   journal        2618 non-null   object \n",
            " 4   doi            2615 non-null   object \n",
            " 5   type           2615 non-null   object \n",
            " 6   issn           2575 non-null   object \n",
            " 7   shortname      2398 non-null   object \n",
            " 8   journal_short  2398 non-null   object \n",
            " 9   publisher      2614 non-null   object \n",
            " 10  issue          2096 non-null   object \n",
            " 11  volume         2472 non-null   object \n",
            " 12  page           2366 non-null   object \n",
            " 13  published      2629 non-null   object \n",
            " 14  subject        2427 non-null   object \n",
            " 15  abstract       1121 non-null   object \n",
            " 16  licence        645 non-null    object \n",
            " 17  pmid           368 non-null    float64\n",
            " 18  keyword        181 non-null    object \n",
            " 19  pmcid          77 non-null     object \n",
            "dtypes: float64(2), object(18)\n",
            "memory usage: 899.2+ KB\n",
            "None\n"
          ]
        }
      ]
    },
    {
      "cell_type": "code",
      "execution_count": null,
      "metadata": {
        "colab": {
          "base_uri": "https://localhost:8080/"
        },
        "id": "Oy8yfUNKtHkp",
        "outputId": "2df069d4-e07f-492b-a59b-7c02f1171d43"
      },
      "outputs": [
        {
          "output_type": "stream",
          "name": "stdout",
          "text": [
            "<class 'pandas.core.series.Series'>\n",
            "Int64Index: 2615 entries, 6 to 5753\n",
            "Series name: doi\n",
            "Non-Null Count  Dtype \n",
            "--------------  ----- \n",
            "2615 non-null   object\n",
            "dtypes: object(1)\n",
            "memory usage: 40.9+ KB\n",
            "None\n",
            "<class 'pandas.core.series.Series'>\n",
            "Int64Index: 1957 entries, 6 to 5744\n",
            "Series name: doi\n",
            "Non-Null Count  Dtype \n",
            "--------------  ----- \n",
            "1957 non-null   object\n",
            "dtypes: object(1)\n",
            "memory usage: 30.6+ KB\n",
            "None\n",
            "<class 'pandas.core.series.Series'>\n",
            "Int64Index: 7 entries, 5737 to 5744\n",
            "Series name: doi\n",
            "Non-Null Count  Dtype \n",
            "--------------  ----- \n",
            "7 non-null      object\n",
            "dtypes: object(1)\n",
            "memory usage: 112.0+ bytes\n",
            "None\n"
          ]
        }
      ],
      "source": [
        "#make a doi list\n",
        "\n",
        "doi_list = dfall['doi'].dropna()\n",
        "print(doi_list.info())\n",
        "doi_list = doi_list.drop_duplicates()\n",
        "print(doi_list.info())\n",
        "\n",
        "first, last = 1950, 1957\n",
        "\n",
        "doi_list_chunk = doi_list.iloc[first:last].astype(str)\n",
        "print(doi_list_chunk.info())"
      ]
    },
    {
      "cell_type": "code",
      "source": [
        "import pandas as pd\n",
        "import requests\n",
        "import time\n",
        "\n",
        "def get_permissions(doi_list_chunk, headers):\n",
        "    # Initialize an empty list to store individual DataFrames\n",
        "    dfs = []\n",
        "\n",
        "    for doi in doi_list_chunk:\n",
        "        resp = requests.get('https://bg.api.oa.works/permissions/10.' + doi, headers=headers)\n",
        "\n",
        "        # Check if the request was successful\n",
        "        if resp.status_code == 200:\n",
        "            data = resp.json()  # Parse the JSON response\n",
        "\n",
        "            # Create a DataFrame from the JSON data, handling missing keys with None values\n",
        "            df = pd.DataFrame([data], columns=data.keys())\n",
        "\n",
        "            # Append the DOI to the DataFrame\n",
        "            df['DOI'] = doi\n",
        "\n",
        "            # Append the DataFrame to the list\n",
        "            dfs.append(df)\n",
        "        else:\n",
        "            print('Failed to retrieve data for DOI:', doi)\n",
        "\n",
        "        # Introduce a delay of 1 second between API requests\n",
        "        time.sleep(1)\n",
        "\n",
        "    # Concatenate the list of DataFrames into a single DataFrame\n",
        "    result_df = pd.concat(dfs, ignore_index=True)\n",
        "\n",
        "    # Set the DOI column as the index\n",
        "    result_df.set_index('DOI', inplace=True)\n",
        "\n",
        "    # Print the final DataFrame with data from all API requests\n",
        "    return result_df\n",
        "\n",
        "# Example usage\n",
        "\n",
        "attempt = get_permissions(doi_list, headers)\n",
        "print(attempt)\n",
        "\n",
        "drive.mount('/content/gdrive')\n",
        "attempt.to_csv('/content/gdrive/My Drive/permissionstest.csv', index=False)\n",
        "df_verify = pd.read_csv('/content/gdrive/My Drive/permissionstest.csv')\n",
        "print(df_verify.head())\n",
        "\n",
        "attemptloop = get_permissions(doi_list_chunk, headers)\n",
        "filepath = '/content/gdrive/My Drive/doipermissions.csv'\n",
        "attemptloop.to_csv(filepath, index=False)\n",
        "df_verify = pd.read_csv('/content/gdrive/My Drive/doipermissions.csv')\n",
        "\n",
        "print(df_verify.info())\n"
      ],
      "metadata": {
        "colab": {
          "base_uri": "https://localhost:8080/"
        },
        "id": "JVU7h6J39Tc3",
        "outputId": "c0d9b478-a451-439f-f231-6f7c996a77a3"
      },
      "execution_count": null,
      "outputs": [
        {
          "output_type": "stream",
          "name": "stdout",
          "text": [
            "Failed to retrieve data for DOI: 10.1016/b978-0-12-819475-1.00006-7\n",
            "Failed to retrieve data for DOI: 10.1016/b978-0-12-819475-1.00042-0\n",
            "Failed to retrieve data for DOI: 10.1017/cbo9781139035538\n",
            "Failed to retrieve data for DOI: 10.1136/bmjstel-2018-aspihconf.150\n",
            "Failed to retrieve data for DOI: 10.1101/2022.07.25.22278025\n",
            "Failed to retrieve data for DOI: 10.1016/bs.adcom.2020.03.003\n",
            "Failed to retrieve data for DOI: 10.1101/2022.02.14.22270972\n",
            "Failed to retrieve data for DOI: 10.5149/9780807888544_reed\n",
            "Failed to retrieve data for DOI: 10.24251/hicss.2020.120\n",
            "Failed to retrieve data for DOI: 10.1093/oso/9780198845539.003.0003\n",
            "Failed to retrieve data for DOI: 10.1093/oso/9780198828310.003.0006\n",
            "Failed to retrieve data for DOI: 10.1055/sos-sd-030-00062\n",
            "Failed to retrieve data for DOI: 10.1021/acs.joc.6b00910.s001\n",
            "Failed to retrieve data for DOI: 10.1525/california/9780520267367.003.0005\n",
            "Failed to retrieve data for DOI: 10.3410/f.737202274.793589781\n",
            "Failed to retrieve data for DOI: 10.3410/f.742324156.793597732\n",
            "Failed to retrieve data for DOI: 10.21203/rs.3.rs-2085479/v1\n",
            "Failed to retrieve data for DOI: 10.21203/rs.3.rs-2584144/v1\n",
            "Failed to retrieve data for DOI: 10.1101/2021.06.24.21259102\n",
            "Failed to retrieve data for DOI: 10.1101/739094\n",
            "Failed to retrieve data for DOI: 10.1007/7854_2020_185\n",
            "Failed to retrieve data for DOI: 10.1093/obo/9780199846740-0162\n",
            "Failed to retrieve data for DOI: 10.1057/978-1-137-58742-8\n",
            "Failed to retrieve data for DOI: 10.1017/9781108773355.006\n",
            "Failed to retrieve data for DOI: 10.1017/cbo9781316387887.008\n",
            "Failed to retrieve data for DOI: 10.1021/jacs.6b05578.s001\n",
            "Failed to retrieve data for DOI: 10.21203/rs.3.rs-3349775/v1\n",
            "Failed to retrieve data for DOI: 10.1021/acsami.6b16822.s001\n",
            "Failed to retrieve data for DOI: 10.1021/acs.chemmater.8b00305.s001\n",
            "Failed to retrieve data for DOI: 10.4324/9781003447795-18\n",
            "Failed to retrieve data for DOI: 10.1016/j.jcomm.2020.100149\n",
            "Failed to retrieve data for DOI: 10.1017/cbo9780511485664.009\n",
            "Failed to retrieve data for DOI: 10.21203/rs.3.rs-2832073/v1\n",
            "Failed to retrieve data for DOI: 10.1108/s1085-462220200000024009\n",
            "Failed to retrieve data for DOI: 10.1108/s1085-462220220000026011\n",
            "Failed to retrieve data for DOI: 10.4018/978-1-5225-0741-3\n",
            "Failed to retrieve data for DOI: 10.4018/978-1-4666-8345-7.ch001\n",
            "Failed to retrieve data for DOI: 10.4018/978-1-5225-0703-1\n",
            "Failed to retrieve data for DOI: 10.1016/bs.irrdd.2020.07.002\n",
            "Failed to retrieve data for DOI: 10.1109/pst52912.2021.9647771\n",
            "Failed to retrieve data for DOI: 10.1007/978-3-030-67044-3_2\n",
            "Failed to retrieve data for DOI: 10.1145/3341161.3345334\n",
            "Failed to retrieve data for DOI: 10.1145/3532105.3535025\n",
            "Failed to retrieve data for DOI: 10.3102/1583309\n",
            "Failed to retrieve data for DOI: 10.1016/bs.irrdd.2019.06.009\n",
            "Failed to retrieve data for DOI: 10.1007/978-1-4939-7046-9_16\n",
            "Failed to retrieve data for DOI: 10.31235/osf.io/62q5m\n",
            "Failed to retrieve data for DOI: 10.4324/9781003270195-24\n",
            "Failed to retrieve data for DOI: 10.1145/3421937.3421975\n",
            "Failed to retrieve data for DOI: 10.1093/oxfordhb/9780190201371.013.19\n",
            "Failed to retrieve data for DOI: 10.4324/9780367823122\n",
            "Failed to retrieve data for DOI: 10.1007/978-3-319-44124-5_28\n",
            "Failed to retrieve data for DOI: 10.1002/9781119057840.ch1\n",
            "Failed to retrieve data for DOI: 10.31234/osf.io/dca47\n",
            "Failed to retrieve data for DOI: 10.1007/978-1-4939-3572-7_24\n",
            "Failed to retrieve data for DOI: 10.1101/2020.11.28.402214\n",
            "Failed to retrieve data for DOI: 10.1007/978-1-4939-6406-2_9\n",
            "                                                                    best_permission  \\\n",
            "DOI                                                                                   \n",
            "10.3368/jhr.55.1.0717.8928r       {'versions': [], 'copyright_owner': 'Publisher...   \n",
            "10.1016/j.jvb.2021.103646         {'can_archive': True, 'version': 'acceptedVers...   \n",
            "10.1177/1094428106292895          {'can_archive': True, 'version': 'acceptedVers...   \n",
            "10.1007/s10869-005-9009-y         {'can_archive': True, 'version': 'acceptedVers...   \n",
            "10.25035/pad.2021.02.002          {'can_archive': True, 'version': 'publishedVer...   \n",
            "...                                                                             ...   \n",
            "10.1007/s10826-018-1268-0         {'can_archive': True, 'version': 'acceptedVers...   \n",
            "10.1080/10826084.2018.1512625     {'can_archive': True, 'version': 'acceptedVers...   \n",
            "10.1037/adb0000690                {'can_archive': True, 'version': 'acceptedVers...   \n",
            "10.1007/s10508-019-01609-6        {'can_archive': True, 'version': 'acceptedVers...   \n",
            "10.1016/j.drugalcdep.2017.06.026  {'can_archive': True, 'version': 'acceptedVers...   \n",
            "\n",
            "                                                                    all_permissions  \n",
            "DOI                                                                                  \n",
            "10.3368/jhr.55.1.0717.8928r       [{'versions': [], 'copyright_owner': 'Publishe...  \n",
            "10.1016/j.jvb.2021.103646         [{'can_archive': True, 'version': 'acceptedVer...  \n",
            "10.1177/1094428106292895          [{'can_archive': True, 'version': 'acceptedVer...  \n",
            "10.1007/s10869-005-9009-y         [{'can_archive': True, 'version': 'acceptedVer...  \n",
            "10.25035/pad.2021.02.002          [{'can_archive': True, 'version': 'publishedVe...  \n",
            "...                                                                             ...  \n",
            "10.1007/s10826-018-1268-0         [{'can_archive': True, 'version': 'acceptedVer...  \n",
            "10.1080/10826084.2018.1512625     [{'can_archive': True, 'version': 'acceptedVer...  \n",
            "10.1037/adb0000690                [{'can_archive': True, 'version': 'acceptedVer...  \n",
            "10.1007/s10508-019-01609-6        [{'can_archive': True, 'version': 'acceptedVer...  \n",
            "10.1016/j.drugalcdep.2017.06.026  [{'can_archive': True, 'version': 'acceptedVer...  \n",
            "\n",
            "[1900 rows x 2 columns]\n",
            "Drive already mounted at /content/gdrive; to attempt to forcibly remount, call drive.mount(\"/content/gdrive\", force_remount=True).\n",
            "                                     best_permission  \\\n",
            "0  {'versions': [], 'copyright_owner': 'Publisher...   \n",
            "1  {'can_archive': True, 'version': 'acceptedVers...   \n",
            "2  {'can_archive': True, 'version': 'acceptedVers...   \n",
            "3  {'can_archive': True, 'version': 'acceptedVers...   \n",
            "4  {'can_archive': True, 'version': 'publishedVer...   \n",
            "\n",
            "                                     all_permissions  \n",
            "0  [{'versions': [], 'copyright_owner': 'Publishe...  \n",
            "1  [{'can_archive': True, 'version': 'acceptedVer...  \n",
            "2  [{'can_archive': True, 'version': 'acceptedVer...  \n",
            "3  [{'can_archive': True, 'version': 'acceptedVer...  \n",
            "4  [{'can_archive': True, 'version': 'publishedVe...  \n",
            "<class 'pandas.core.frame.DataFrame'>\n",
            "RangeIndex: 7 entries, 0 to 6\n",
            "Data columns (total 2 columns):\n",
            " #   Column           Non-Null Count  Dtype \n",
            "---  ------           --------------  ----- \n",
            " 0   best_permission  7 non-null      object\n",
            " 1   all_permissions  7 non-null      object\n",
            "dtypes: object(2)\n",
            "memory usage: 240.0+ bytes\n",
            "None\n"
          ]
        }
      ]
    },
    {
      "cell_type": "code",
      "source": [
        "print(df.info())"
      ],
      "metadata": {
        "id": "1Lrlwt_ynSL_",
        "outputId": "13c92df4-7123-4669-8cfa-0efdd3dbc193",
        "colab": {
          "base_uri": "https://localhost:8080/",
          "height": 181
        }
      },
      "execution_count": null,
      "outputs": [
        {
          "output_type": "error",
          "ename": "NameError",
          "evalue": "ignored",
          "traceback": [
            "\u001b[0;31m---------------------------------------------------------------------------\u001b[0m",
            "\u001b[0;31mNameError\u001b[0m                                 Traceback (most recent call last)",
            "\u001b[0;32m<ipython-input-51-d3684afb9d7a>\u001b[0m in \u001b[0;36m<cell line: 1>\u001b[0;34m()\u001b[0m\n\u001b[0;32m----> 1\u001b[0;31m \u001b[0mprint\u001b[0m\u001b[0;34m(\u001b[0m\u001b[0mdf\u001b[0m\u001b[0;34m.\u001b[0m\u001b[0minfo\u001b[0m\u001b[0;34m(\u001b[0m\u001b[0;34m)\u001b[0m\u001b[0;34m)\u001b[0m\u001b[0;34m\u001b[0m\u001b[0;34m\u001b[0m\u001b[0m\n\u001b[0m",
            "\u001b[0;31mNameError\u001b[0m: name 'df' is not defined"
          ]
        }
      ]
    }
  ]
}